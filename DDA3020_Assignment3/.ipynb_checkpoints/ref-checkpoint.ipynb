{
 "cells": [
  {
   "cell_type": "markdown",
   "metadata": {
    "id": "DbCV8M0vukk1"
   },
   "source": [
    "# DDA 3020 Assignment 3: Fully-Connected Neural Networks and CNN\n",
    "\n",
    "Before we start, please put your name and ID in following format:\n",
    "\n",
    "Firstname LASTNAME, #00000000   //  e.g.) Justin JOHNSON, #12345678\n",
    "\n"
   ]
  },
  {
   "cell_type": "markdown",
   "metadata": {
    "id": "uAMIlt0zxpNc"
   },
   "source": [
    "# Your Answer\n",
    "\n",
    "Your Name; # 应昊天\n",
    "\n"
   ]
  },
  {
   "cell_type": "markdown",
   "metadata": {
    "id": "WjgisxL9t5W0"
   },
   "source": [
    "# Overview\n",
    "\n",
    "In this exercise, we are going to build a **fully-connected neural network** and a **convolutional neural network** from scratch using **numpy** package.\n",
    "\n",
    "For **Fully-connected Neural Network**, you need to implement both forward and backward part to train your model and update the parameters.\n",
    "\n",
    "For **Convolutional Neural Network**, you only need to implement the forward part, including `convolutional layers`, `max_pooling` and `fully-connected layers`. Functions of implementing backpropagation are given. Please check the input requirements for those functions, especially pay attention to the dimension.\n",
    "\n",
    "Please follow the guidance and finish the **<font color=\"green\">[To Do]</font>** and **<font color=\"red\">[Task]</font>** part. Please feel free to define your own functions or modify the functions given if needed. No writing report is required and you will get the mark if the whole process and results are reasonable.\n",
    "\n",
    "If you meet any package or memory issues that can't be solved, feel free to use this colab script to finish your task (remember to copy your own one instead of modifying this colab script directly) : https://colab.research.google.com/drive/1AdGyiVYosU2uMBQ9ahx5B7ZOmH8zEQg_?usp=drive_link"
   ]
  },
  {
   "cell_type": "markdown",
   "metadata": {
    "id": "rZvuOyO6xv0B"
   },
   "source": [
    "# Set Up Code"
   ]
  },
  {
   "cell_type": "code",
   "execution_count": 1,
   "metadata": {
    "ExecuteTime": {
     "end_time": "2024-04-11T08:51:12.190312300Z",
     "start_time": "2024-04-11T08:51:10.971193900Z"
    },
    "id": "3W80z-YfOVyw"
   },
   "outputs": [],
   "source": [
    "import numpy as np\n",
    "import pandas as pd\n",
    "import matplotlib.pyplot as plt\n"
   ]
  },
  {
   "cell_type": "markdown",
   "metadata": {
    "id": "5si-RE7LQOTV"
   },
   "source": [
    "# Fully-connected Neural Network"
   ]
  },
  {
   "cell_type": "markdown",
   "metadata": {
    "id": "fgdmbFCBI0RL"
   },
   "source": [
    "# 1.1 Loading Datasets"
   ]
  },
  {
   "cell_type": "markdown",
   "metadata": {
    "id": "wasX27MVGMzE"
   },
   "source": [
    "In this assignment, we mainly adopt the FashionMnist dataset to train our network. You will be given two csv files: **fashion-mnist_train.csv; fashion-mnist_test.csv**, containing 60000 and 10000 samples each. Each sample is a 28 * 28 grayscale image. In the csv file, each row represents a sample with dimension 1 * 784 (28*28). The first step of this assignment is loading our data. Please run the below cells and a visualization code is also given."
   ]
  },
  {
   "cell_type": "code",
   "execution_count": 3,
   "metadata": {
    "ExecuteTime": {
     "end_time": "2024-04-09T13:33:56.805353Z",
     "start_time": "2024-04-09T13:33:56.715152300Z"
    },
    "colab": {
     "base_uri": "https://localhost:8080/"
    },
    "executionInfo": {
     "elapsed": 17045,
     "status": "ok",
     "timestamp": 1711826794887,
     "user": {
      "displayName": "物午",
      "userId": "12077501645191558009"
     },
     "user_tz": -480
    },
    "id": "W1ZeWHG1ycc1",
    "outputId": "73ad1445-d94a-49da-8d17-9455d513ba44"
   },
   "outputs": [
    {
     "ename": "ModuleNotFoundError",
     "evalue": "No module named 'google'",
     "output_type": "error",
     "traceback": [
      "\u001b[1;31m---------------------------------------------------------------------------\u001b[0m",
      "\u001b[1;31mModuleNotFoundError\u001b[0m                       Traceback (most recent call last)",
      "Cell \u001b[1;32mIn[3], line 3\u001b[0m\n\u001b[0;32m      1\u001b[0m \u001b[38;5;66;03m# run it only when you use colab to do this assignment\u001b[39;00m\n\u001b[0;32m      2\u001b[0m \u001b[38;5;66;03m# no need to run it if you do this assignment locally\u001b[39;00m\n\u001b[1;32m----> 3\u001b[0m \u001b[38;5;28;01mfrom\u001b[39;00m \u001b[38;5;21;01mgoogle\u001b[39;00m\u001b[38;5;21;01m.\u001b[39;00m\u001b[38;5;21;01mcolab\u001b[39;00m \u001b[38;5;28;01mimport\u001b[39;00m drive\n\u001b[0;32m      4\u001b[0m drive\u001b[38;5;241m.\u001b[39mmount(\u001b[38;5;124m'\u001b[39m\u001b[38;5;124m/content/gdrive\u001b[39m\u001b[38;5;124m'\u001b[39m)\n",
      "\u001b[1;31mModuleNotFoundError\u001b[0m: No module named 'google'"
     ]
    }
   ],
   "source": [
    "# run it only when you use colab to do this assignment\n",
    "# no need to run it if you do this assignment locally\n",
    "from google.colab import drive\n",
    "drive.mount('/content/gdrive')"
   ]
  },
  {
   "cell_type": "code",
   "execution_count": 2,
   "metadata": {
    "ExecuteTime": {
     "end_time": "2024-04-11T08:51:17.445251900Z",
     "start_time": "2024-04-11T08:51:13.520744400Z"
    },
    "id": "qw023ZBHQMQx"
   },
   "outputs": [],
   "source": [
    "mnist_train = pd.read_csv('F:/大二下/DDA3020/Assignment3/fashion-mnist_train.csv') # change the path to your own path\n",
    "mnist_test = pd.read_csv('F:/大二下/DDA30'\n",
    "                         '20/Assignment3/fashion-mnist_test.csv') # change the path to your own path"
   ]
  },
  {
   "cell_type": "code",
   "execution_count": 3,
   "metadata": {
    "ExecuteTime": {
     "end_time": "2024-04-11T08:51:18.304947400Z",
     "start_time": "2024-04-11T08:51:18.277322300Z"
    },
    "colab": {
     "base_uri": "https://localhost:8080/"
    },
    "executionInfo": {
     "elapsed": 492,
     "status": "ok",
     "timestamp": 1711826840596,
     "user": {
      "displayName": "物午",
      "userId": "12077501645191558009"
     },
     "user_tz": -480
    },
    "id": "nH6XUKXXZDjd",
    "outputId": "75a03b9b-6830-49ae-f9b0-14bcb55661cd"
   },
   "outputs": [
    {
     "name": "stdout",
     "output_type": "stream",
     "text": [
      "(60000, 785)\n",
      "(10000, 785)\n"
     ]
    }
   ],
   "source": [
    "# check the shape of of the training data\n",
    "print(mnist_train.shape)\n",
    "print(mnist_test.shape)"
   ]
  },
  {
   "cell_type": "code",
   "execution_count": 4,
   "metadata": {
    "ExecuteTime": {
     "end_time": "2024-04-11T08:51:18.743901600Z",
     "start_time": "2024-04-11T08:51:18.494797300Z"
    },
    "colab": {
     "base_uri": "https://localhost:8080/",
     "height": 392
    },
    "executionInfo": {
     "elapsed": 464,
     "status": "ok",
     "timestamp": 1711826845179,
     "user": {
      "displayName": "物午",
      "userId": "12077501645191558009"
     },
     "user_tz": -480
    },
    "id": "RKUB3KTuZA_i",
    "outputId": "41fd5417-6467-4abc-86b4-f17529125788"
   },
   "outputs": [
    {
     "data": {
      "text/html": [
       "<div>\n",
       "<style scoped>\n",
       "    .dataframe tbody tr th:only-of-type {\n",
       "        vertical-align: middle;\n",
       "    }\n",
       "\n",
       "    .dataframe tbody tr th {\n",
       "        vertical-align: top;\n",
       "    }\n",
       "\n",
       "    .dataframe thead th {\n",
       "        text-align: right;\n",
       "    }\n",
       "</style>\n",
       "<table border=\"1\" class=\"dataframe\">\n",
       "  <thead>\n",
       "    <tr style=\"text-align: right;\">\n",
       "      <th></th>\n",
       "      <th>pixel1</th>\n",
       "      <th>pixel2</th>\n",
       "      <th>pixel3</th>\n",
       "      <th>pixel4</th>\n",
       "      <th>pixel5</th>\n",
       "      <th>pixel6</th>\n",
       "      <th>pixel7</th>\n",
       "      <th>pixel8</th>\n",
       "      <th>pixel9</th>\n",
       "      <th>pixel10</th>\n",
       "      <th>...</th>\n",
       "      <th>pixel775</th>\n",
       "      <th>pixel776</th>\n",
       "      <th>pixel777</th>\n",
       "      <th>pixel778</th>\n",
       "      <th>pixel779</th>\n",
       "      <th>pixel780</th>\n",
       "      <th>pixel781</th>\n",
       "      <th>pixel782</th>\n",
       "      <th>pixel783</th>\n",
       "      <th>pixel784</th>\n",
       "    </tr>\n",
       "  </thead>\n",
       "  <tbody>\n",
       "    <tr>\n",
       "      <th>0</th>\n",
       "      <td>0.0</td>\n",
       "      <td>0.0</td>\n",
       "      <td>0.0</td>\n",
       "      <td>0.000000</td>\n",
       "      <td>0.000000</td>\n",
       "      <td>0.000000</td>\n",
       "      <td>0.000000</td>\n",
       "      <td>0.000000</td>\n",
       "      <td>0.000000</td>\n",
       "      <td>0.000000</td>\n",
       "      <td>...</td>\n",
       "      <td>0.000000</td>\n",
       "      <td>0.000000</td>\n",
       "      <td>0.000000</td>\n",
       "      <td>0.000000</td>\n",
       "      <td>0.000000</td>\n",
       "      <td>0.000000</td>\n",
       "      <td>0.000000</td>\n",
       "      <td>0.0</td>\n",
       "      <td>0.0</td>\n",
       "      <td>0.0</td>\n",
       "    </tr>\n",
       "    <tr>\n",
       "      <th>1</th>\n",
       "      <td>0.0</td>\n",
       "      <td>0.0</td>\n",
       "      <td>0.0</td>\n",
       "      <td>0.000000</td>\n",
       "      <td>0.000000</td>\n",
       "      <td>0.000000</td>\n",
       "      <td>0.000000</td>\n",
       "      <td>0.000000</td>\n",
       "      <td>0.000000</td>\n",
       "      <td>0.000000</td>\n",
       "      <td>...</td>\n",
       "      <td>0.000000</td>\n",
       "      <td>0.000000</td>\n",
       "      <td>0.000000</td>\n",
       "      <td>0.000000</td>\n",
       "      <td>0.000000</td>\n",
       "      <td>0.000000</td>\n",
       "      <td>0.000000</td>\n",
       "      <td>0.0</td>\n",
       "      <td>0.0</td>\n",
       "      <td>0.0</td>\n",
       "    </tr>\n",
       "    <tr>\n",
       "      <th>2</th>\n",
       "      <td>0.0</td>\n",
       "      <td>0.0</td>\n",
       "      <td>0.0</td>\n",
       "      <td>0.000000</td>\n",
       "      <td>0.000000</td>\n",
       "      <td>0.000000</td>\n",
       "      <td>0.000000</td>\n",
       "      <td>0.019608</td>\n",
       "      <td>0.000000</td>\n",
       "      <td>0.000000</td>\n",
       "      <td>...</td>\n",
       "      <td>0.000000</td>\n",
       "      <td>0.000000</td>\n",
       "      <td>0.000000</td>\n",
       "      <td>0.117647</td>\n",
       "      <td>0.168627</td>\n",
       "      <td>0.000000</td>\n",
       "      <td>0.000000</td>\n",
       "      <td>0.0</td>\n",
       "      <td>0.0</td>\n",
       "      <td>0.0</td>\n",
       "    </tr>\n",
       "    <tr>\n",
       "      <th>3</th>\n",
       "      <td>0.0</td>\n",
       "      <td>0.0</td>\n",
       "      <td>0.0</td>\n",
       "      <td>0.003922</td>\n",
       "      <td>0.007843</td>\n",
       "      <td>0.000000</td>\n",
       "      <td>0.000000</td>\n",
       "      <td>0.000000</td>\n",
       "      <td>0.000000</td>\n",
       "      <td>0.000000</td>\n",
       "      <td>...</td>\n",
       "      <td>0.011765</td>\n",
       "      <td>0.000000</td>\n",
       "      <td>0.000000</td>\n",
       "      <td>0.000000</td>\n",
       "      <td>0.000000</td>\n",
       "      <td>0.003922</td>\n",
       "      <td>0.000000</td>\n",
       "      <td>0.0</td>\n",
       "      <td>0.0</td>\n",
       "      <td>0.0</td>\n",
       "    </tr>\n",
       "    <tr>\n",
       "      <th>4</th>\n",
       "      <td>0.0</td>\n",
       "      <td>0.0</td>\n",
       "      <td>0.0</td>\n",
       "      <td>0.000000</td>\n",
       "      <td>0.000000</td>\n",
       "      <td>0.000000</td>\n",
       "      <td>0.000000</td>\n",
       "      <td>0.000000</td>\n",
       "      <td>0.000000</td>\n",
       "      <td>0.000000</td>\n",
       "      <td>...</td>\n",
       "      <td>0.000000</td>\n",
       "      <td>0.000000</td>\n",
       "      <td>0.000000</td>\n",
       "      <td>0.000000</td>\n",
       "      <td>0.000000</td>\n",
       "      <td>0.000000</td>\n",
       "      <td>0.000000</td>\n",
       "      <td>0.0</td>\n",
       "      <td>0.0</td>\n",
       "      <td>0.0</td>\n",
       "    </tr>\n",
       "    <tr>\n",
       "      <th>5</th>\n",
       "      <td>0.0</td>\n",
       "      <td>0.0</td>\n",
       "      <td>0.0</td>\n",
       "      <td>0.019608</td>\n",
       "      <td>0.015686</td>\n",
       "      <td>0.019608</td>\n",
       "      <td>0.019608</td>\n",
       "      <td>0.011765</td>\n",
       "      <td>0.019608</td>\n",
       "      <td>0.023529</td>\n",
       "      <td>...</td>\n",
       "      <td>0.027451</td>\n",
       "      <td>0.031373</td>\n",
       "      <td>0.027451</td>\n",
       "      <td>0.015686</td>\n",
       "      <td>0.011765</td>\n",
       "      <td>0.027451</td>\n",
       "      <td>0.019608</td>\n",
       "      <td>0.0</td>\n",
       "      <td>0.0</td>\n",
       "      <td>0.0</td>\n",
       "    </tr>\n",
       "    <tr>\n",
       "      <th>6</th>\n",
       "      <td>0.0</td>\n",
       "      <td>0.0</td>\n",
       "      <td>0.0</td>\n",
       "      <td>0.000000</td>\n",
       "      <td>0.000000</td>\n",
       "      <td>0.000000</td>\n",
       "      <td>0.000000</td>\n",
       "      <td>0.000000</td>\n",
       "      <td>0.000000</td>\n",
       "      <td>0.000000</td>\n",
       "      <td>...</td>\n",
       "      <td>0.054902</td>\n",
       "      <td>0.000000</td>\n",
       "      <td>0.000000</td>\n",
       "      <td>0.000000</td>\n",
       "      <td>0.000000</td>\n",
       "      <td>0.000000</td>\n",
       "      <td>0.000000</td>\n",
       "      <td>0.0</td>\n",
       "      <td>0.0</td>\n",
       "      <td>0.0</td>\n",
       "    </tr>\n",
       "    <tr>\n",
       "      <th>7</th>\n",
       "      <td>0.0</td>\n",
       "      <td>0.0</td>\n",
       "      <td>0.0</td>\n",
       "      <td>0.000000</td>\n",
       "      <td>0.000000</td>\n",
       "      <td>0.000000</td>\n",
       "      <td>0.000000</td>\n",
       "      <td>0.000000</td>\n",
       "      <td>0.000000</td>\n",
       "      <td>0.000000</td>\n",
       "      <td>...</td>\n",
       "      <td>0.000000</td>\n",
       "      <td>0.000000</td>\n",
       "      <td>0.000000</td>\n",
       "      <td>0.000000</td>\n",
       "      <td>0.000000</td>\n",
       "      <td>0.000000</td>\n",
       "      <td>0.000000</td>\n",
       "      <td>0.0</td>\n",
       "      <td>0.0</td>\n",
       "      <td>0.0</td>\n",
       "    </tr>\n",
       "    <tr>\n",
       "      <th>8</th>\n",
       "      <td>0.0</td>\n",
       "      <td>0.0</td>\n",
       "      <td>0.0</td>\n",
       "      <td>0.000000</td>\n",
       "      <td>0.000000</td>\n",
       "      <td>0.000000</td>\n",
       "      <td>0.011765</td>\n",
       "      <td>0.007843</td>\n",
       "      <td>0.000000</td>\n",
       "      <td>0.000000</td>\n",
       "      <td>...</td>\n",
       "      <td>0.003922</td>\n",
       "      <td>0.000000</td>\n",
       "      <td>0.000000</td>\n",
       "      <td>0.000000</td>\n",
       "      <td>0.000000</td>\n",
       "      <td>0.000000</td>\n",
       "      <td>0.000000</td>\n",
       "      <td>0.0</td>\n",
       "      <td>0.0</td>\n",
       "      <td>0.0</td>\n",
       "    </tr>\n",
       "    <tr>\n",
       "      <th>9</th>\n",
       "      <td>0.0</td>\n",
       "      <td>0.0</td>\n",
       "      <td>0.0</td>\n",
       "      <td>0.000000</td>\n",
       "      <td>0.000000</td>\n",
       "      <td>0.000000</td>\n",
       "      <td>0.000000</td>\n",
       "      <td>0.000000</td>\n",
       "      <td>0.000000</td>\n",
       "      <td>0.000000</td>\n",
       "      <td>...</td>\n",
       "      <td>0.796078</td>\n",
       "      <td>0.839216</td>\n",
       "      <td>0.650980</td>\n",
       "      <td>0.000000</td>\n",
       "      <td>0.000000</td>\n",
       "      <td>0.000000</td>\n",
       "      <td>0.000000</td>\n",
       "      <td>0.0</td>\n",
       "      <td>0.0</td>\n",
       "      <td>0.0</td>\n",
       "    </tr>\n",
       "  </tbody>\n",
       "</table>\n",
       "<p>10 rows × 784 columns</p>\n",
       "</div>"
      ],
      "text/plain": [
       "   pixel1  pixel2  pixel3    pixel4    pixel5    pixel6    pixel7    pixel8  \\\n",
       "0     0.0     0.0     0.0  0.000000  0.000000  0.000000  0.000000  0.000000   \n",
       "1     0.0     0.0     0.0  0.000000  0.000000  0.000000  0.000000  0.000000   \n",
       "2     0.0     0.0     0.0  0.000000  0.000000  0.000000  0.000000  0.019608   \n",
       "3     0.0     0.0     0.0  0.003922  0.007843  0.000000  0.000000  0.000000   \n",
       "4     0.0     0.0     0.0  0.000000  0.000000  0.000000  0.000000  0.000000   \n",
       "5     0.0     0.0     0.0  0.019608  0.015686  0.019608  0.019608  0.011765   \n",
       "6     0.0     0.0     0.0  0.000000  0.000000  0.000000  0.000000  0.000000   \n",
       "7     0.0     0.0     0.0  0.000000  0.000000  0.000000  0.000000  0.000000   \n",
       "8     0.0     0.0     0.0  0.000000  0.000000  0.000000  0.011765  0.007843   \n",
       "9     0.0     0.0     0.0  0.000000  0.000000  0.000000  0.000000  0.000000   \n",
       "\n",
       "     pixel9   pixel10  ...  pixel775  pixel776  pixel777  pixel778  pixel779  \\\n",
       "0  0.000000  0.000000  ...  0.000000  0.000000  0.000000  0.000000  0.000000   \n",
       "1  0.000000  0.000000  ...  0.000000  0.000000  0.000000  0.000000  0.000000   \n",
       "2  0.000000  0.000000  ...  0.000000  0.000000  0.000000  0.117647  0.168627   \n",
       "3  0.000000  0.000000  ...  0.011765  0.000000  0.000000  0.000000  0.000000   \n",
       "4  0.000000  0.000000  ...  0.000000  0.000000  0.000000  0.000000  0.000000   \n",
       "5  0.019608  0.023529  ...  0.027451  0.031373  0.027451  0.015686  0.011765   \n",
       "6  0.000000  0.000000  ...  0.054902  0.000000  0.000000  0.000000  0.000000   \n",
       "7  0.000000  0.000000  ...  0.000000  0.000000  0.000000  0.000000  0.000000   \n",
       "8  0.000000  0.000000  ...  0.003922  0.000000  0.000000  0.000000  0.000000   \n",
       "9  0.000000  0.000000  ...  0.796078  0.839216  0.650980  0.000000  0.000000   \n",
       "\n",
       "   pixel780  pixel781  pixel782  pixel783  pixel784  \n",
       "0  0.000000  0.000000       0.0       0.0       0.0  \n",
       "1  0.000000  0.000000       0.0       0.0       0.0  \n",
       "2  0.000000  0.000000       0.0       0.0       0.0  \n",
       "3  0.003922  0.000000       0.0       0.0       0.0  \n",
       "4  0.000000  0.000000       0.0       0.0       0.0  \n",
       "5  0.027451  0.019608       0.0       0.0       0.0  \n",
       "6  0.000000  0.000000       0.0       0.0       0.0  \n",
       "7  0.000000  0.000000       0.0       0.0       0.0  \n",
       "8  0.000000  0.000000       0.0       0.0       0.0  \n",
       "9  0.000000  0.000000       0.0       0.0       0.0  \n",
       "\n",
       "[10 rows x 784 columns]"
      ]
     },
     "execution_count": 4,
     "metadata": {},
     "output_type": "execute_result"
    }
   ],
   "source": [
    "# convert the dataset into training set and testing set\n",
    "# for each pixel, the purpose of dividing it by 255 is to scale its value between 0 and 1 since the maximun value is 255\n",
    "# for testset, since its label is a number, we first transform it into one-hot vector\n",
    "\n",
    "\n",
    "X_train, Y_train = mnist_train.drop('label',axis=1)/255, mnist_train['label']\n",
    "X_test, Y_test = mnist_test.drop('label',axis=1)/255, mnist_test['label']\n",
    "Y_train, Y_test = pd.get_dummies(Y_train),pd.get_dummies(Y_test)\n",
    "\n",
    "# you can check the first 10 samples of the training set\n",
    "X_train.head(10)"
   ]
  },
  {
   "cell_type": "code",
   "execution_count": 5,
   "metadata": {
    "ExecuteTime": {
     "end_time": "2024-04-11T08:51:18.795345400Z",
     "start_time": "2024-04-11T08:51:18.728250500Z"
    },
    "id": "z6bv_YnBKKga"
   },
   "outputs": [],
   "source": [
    "# here is a function of reshaping the 1*784 vector into 28*28 matrix (the original format of a grayscale image)\n",
    "def reshape_data(X_train, X_test):\n",
    "  train_size, test_size = X_train.shape[0], X_test.shape[0]\n",
    "  reshape_train, reshape_test = np.transpose(X_train,(1,0)), np.transpose(X_test,(1,0))\n",
    "  reshape_train, reshape_test = reshape_train.reshape((28,28,1,train_size)), reshape_test.reshape((28,28,1,test_size))\n",
    "  return np.transpose(reshape_train,(3,0,1,2)), np.transpose(reshape_test,(3,0,1,2))"
   ]
  },
  {
   "cell_type": "code",
   "execution_count": 6,
   "metadata": {
    "ExecuteTime": {
     "end_time": "2024-04-11T08:51:19.444111800Z",
     "start_time": "2024-04-11T08:51:19.211065100Z"
    },
    "colab": {
     "base_uri": "https://localhost:8080/",
     "height": 452
    },
    "executionInfo": {
     "elapsed": 597,
     "status": "ok",
     "timestamp": 1711826890245,
     "user": {
      "displayName": "物午",
      "userId": "12077501645191558009"
     },
     "user_tz": -480
    },
    "id": "3rj45iFQJ1u6",
    "outputId": "a253325d-2b78-4583-ddda-9dc00376a9a7"
   },
   "outputs": [
    {
     "data": {
      "image/png": "[encoded data removed]",
      "text/plain": [
       "<Figure size 640x480 with 1 Axes>"
      ]
     },
     "metadata": {},
     "output_type": "display_data"
    }
   ],
   "source": [
    "# here is a visualization cell that you can check the data sample from FashionMnist\n",
    "\n",
    "x_train_sample, x_test_sample = reshape_data(X_train.values, X_test.values)\n",
    "y_train_sample, y_test_sample = Y_train.values, Y_test.values\n",
    "sample_image = x_train_sample[0,:, :, :].squeeze()\n",
    "\n",
    "# plot the figure\n",
    "plt.imshow(sample_image, cmap='gray')\n",
    "plt.show()"
   ]
  },
  {
   "cell_type": "markdown",
   "metadata": {
    "id": "L50IwV8QLQGB"
   },
   "source": [
    "# 1.2 Implement Fully-connected Neural Network\n",
    "\n",
    "In this exercise, we will implement a simple **three layer fully-connected neural network** from scratch using only **numpy** package. The NN contains one input layer with 784 nodes (dimension of the input data), one hidden layer with 128 nodes, and one output layer with 10 nodes (10 types of labels). For the first two layers, we will use `relu` as our activation function. The output layer will use `softmax` activation function. The loss for this multi-label prediction task is chosen as softmax-cross-entropy\n",
    "\n"
   ]
  },
  {
   "cell_type": "markdown",
   "metadata": {
    "id": "Cwxb7EXS85fs"
   },
   "source": [
    "Firstly, we initialize all the parameters using the given functions. We provide an example of using this function. You can modify the function if needed (like changing the dimension etc.)."
   ]
  },
  {
   "cell_type": "code",
   "execution_count": 7,
   "metadata": {
    "ExecuteTime": {
     "end_time": "2024-04-11T08:51:21.446718Z",
     "start_time": "2024-04-11T08:51:21.444707Z"
    },
    "id": "I5NFHWJaQuF2"
   },
   "outputs": [],
   "source": [
    "def initialize_parameters(layer_dims):\n",
    "    '''\n",
    "    initialize all the parameters, including weights and bias\n",
    "\n",
    "    Inputs:\n",
    "    - layer_dims: a list containing the number of nodes in each layer\n",
    "\n",
    "    Example:\n",
    "    - if you want to build a two layer neural network\n",
    "    - the number of nodes in each layer is 20, 10\n",
    "    - then use the function like: para = initialize_parameters([20,10])\n",
    "    - para['W1'] is the weight matrix from layer 1 to layer 2 with dimension (10 * 20)\n",
    "    - you can modify the output dimension if you need\n",
    "\n",
    "    '''\n",
    "\n",
    "    parameters = {}\n",
    "    L = len(layer_dims)\n",
    "\n",
    "    for l in range(1, L):\n",
    "        parameters['W' + str(l)] = np.random.randn(layer_dims[l], layer_dims[l-1]) * 0.01\n",
    "        parameters['b' + str(l)] = np.zeros((layer_dims[l],1))\n",
    "\n",
    "    return parameters"
   ]
  },
  {
   "cell_type": "markdown",
   "metadata": {
    "id": "LiwOro3x1HUh"
   },
   "source": [
    "# 1.2.1 Activation functions and Loss functions\n",
    "\n",
    "In this section, you will implement different functions, including `relu`, `softmax` and `cross entropy loss`. The formulas are listed below for reference.\n",
    "\n",
    "---\n",
    "*   $\\text{ReLU}(z) = \\max(0, z)$ \\\\\n",
    "*   $\\text{Softmax}(z_i) = \\frac{e^{z_i}}{\\sum_{j=1}^{K} e^{z_j}}$\n",
    "*   $L = -\\sum_{c=1}^{K} y_c \\log(\\hat{y}_c)$, where $y_c$ is the ground truth labels, $\\hat{y}_c$ is the prediced labels\n",
    "\n",
    "\n",
    "\n",
    "---\n",
    "\n",
    "**<font color=\"red\">[Task]</font>**: Fill the **<font color=\"green\">[TODO]</font>** part in the below three functions.\n",
    "\n"
   ]
  },
  {
   "cell_type": "code",
   "execution_count": 8,
   "metadata": {
    "ExecuteTime": {
     "end_time": "2024-04-11T08:51:22.259645600Z",
     "start_time": "2024-04-11T08:51:22.257205800Z"
    },
    "id": "YsKrO2HXQxEu"
   },
   "outputs": [],
   "source": [
    "def relu(Z):\n",
    "  '''\n",
    "  the ReLU activation function\n",
    "\n",
    "  Inputs:\n",
    "  - Z: the computed results before activation (e.g. WX+b)\n",
    "\n",
    "  Outputs:\n",
    "  - A: the result after activation\n",
    "\n",
    "  '''\n",
    "  \n",
    "\n",
    "  A = None\n",
    "\n",
    "  ######################################################################\n",
    "  # TODO: Implement the ReLU Functions              #\n",
    "  ######################################################################\n",
    "  # Replace pass with your code\n",
    "  A = np.maximum(Z, 0)\n",
    "  ######################################################################\n",
    "  #         END OF YOUR CODE               #\n",
    "  ######################################################################\n",
    "\n",
    "  return A\n",
    "\n",
    "\n",
    "def softmax(Z):\n",
    "  '''\n",
    "  the softmax activation function\n",
    "  Inputs:\n",
    "  - Z: the computed results before activation (e.g. WX+b)\n",
    "  Outputs:\n",
    "  - A: the result after activation\n",
    "  '''\n",
    "  A = np.zeros_like(Z)\n",
    "\n",
    "  ######################################################################\n",
    "  # TODO: Implement the softmax Function             #\n",
    "  ######################################################################\n",
    "  # Replace pass with your code\n",
    "  \n",
    "  # exp_Z = np.exp(Z - np.max(Z, axis=1, keepdims=True))\n",
    "  # return exp_Z / np.sum(exp_Z, axis=1, keepdims=True)\n",
    "  \n",
    "  # exp_Z = np.exp(Z - np.max(Z, axis=1, keepdims=True))\n",
    "\n",
    "    # 对每个样本的softmax值进行归一化\n",
    "  # A = exp_Z / np.sum(exp_Z, axis=1, keepdims=True)\n",
    "  \n",
    "  sum = 0\n",
    "  # for i in Z:\n",
    "  #     sum += np.exp(i)\n",
    "  # for i in range(Z.shape[0]):\n",
    "  #     A[i] = np.exp(Z[i])/ sum\n",
    "  epsilon = 1e-10\n",
    "  for i in Z:\n",
    "      sum += np.exp(i+epsilon)\n",
    "  for i in range(Z.shape[0]):\n",
    "      A[i] = np.exp(Z[i] + epsilon)/ sum\n",
    "  \n",
    "  ######################################################################\n",
    "  #         END OF YOUR CODE               #\n",
    "  ######################################################################\n",
    "  return A\n",
    "\n",
    "\n",
    "def compute_loss(A, Y):\n",
    "\n",
    "  '''\n",
    "  the softmax activation function\n",
    "\n",
    "  Inputs:\n",
    "  - A: the output result after softmax, the dimension is [10, batch_size]\n",
    "  - Each row of A is a probability vector, A[0,0] represents the probability of the first sample belonging to label 0\n",
    "  - Y: the groundtruth label, the dimension is [10, batch_size]\n",
    "\n",
    "  Outputs:  \n",
    "  - L: the computed loss\n",
    "\n",
    "  '''\n",
    "  L = None\n",
    "\n",
    "  ######################################################################\n",
    "  # TODO: Implement the Loss Function               #\n",
    "  ######################################################################\n",
    "  # Replace pass with your code\n",
    "  n = Y.shape[1]\n",
    "  epsilon = 1e-10\n",
    "  L = -np.sum(Y * np.log(A + epsilon))/n\n",
    "  ######################################################################\n",
    "  #         END OF YOUR CODE               #\n",
    "  ######################################################################\n",
    "\n",
    "  return L\n",
    "\n"
   ]
  },
  {
   "cell_type": "markdown",
   "metadata": {
    "id": "4fisu3rKC5n7"
   },
   "source": [
    "# 1.2.2 Forward Propagation\n",
    "\n",
    "In this section, you need to implement the `forward_propagation` function. Each time you propagate from one layer to the next layer, two steps are needed:\n",
    "\n",
    "\n",
    "1.   Multiply the values in the current nodes with the weight matrix and add the bias terms\n",
    "2.   Use the activation function to activate the results\n",
    "\n",
    "In our setting, we have three layers, so we need to propogate our training data twice to get the final prediction results.\n",
    "\n",
    "**<font color=\"red\">[Task]</font>**: Fill the **<font color=\"green\">[TODO]</font>** part in the below function.\n",
    "\n"
   ]
  },
  {
   "cell_type": "code",
   "execution_count": 9,
   "metadata": {
    "ExecuteTime": {
     "end_time": "2024-04-11T08:51:22.821479100Z",
     "start_time": "2024-04-11T08:51:22.791130900Z"
    },
    "id": "AKjJoEbDGeaJ"
   },
   "outputs": [],
   "source": [
    "def forward_propagation(X, parameters):\n",
    "\n",
    "    '''\n",
    "    Inputs:\n",
    "    - X: the training data, with dimension [784,batch_size]\n",
    "    - parameters: a dictionary that contains all the parameters define\n",
    "\n",
    "    Outputs:\n",
    "    - A2: the result of the last layer\n",
    "    - cache: a tuple that stores the propagation results for later backpropagation process\n",
    "\n",
    "    '''\n",
    "    W1, b1, W2, b2 = parameters['W1'], parameters['b1'], parameters['W2'], parameters['b2']\n",
    "\n",
    "\n",
    "    Z1 = None\n",
    "    A1 = None\n",
    "    Z2 = None\n",
    "    A2 = None\n",
    "\n",
    "    ######################################################################\n",
    "    # TODO: Implement the forward propagation            #\n",
    "    ######################################################################\n",
    "    # Replace pass with your code\n",
    "    # print(X.shape)\n",
    "    # print(W1.shape)\n",
    "    Z1 = np.dot(W1 , X) + b1\n",
    "    A1 = np.maximum(0, Z1)\n",
    "    Z2 = np.dot(W2 , A1) + b2\n",
    "    A2 = np.maximum(0, Z2)\n",
    "    ######################################################################\n",
    "    \n",
    "    #         END OF YOUR CODE               \n",
    "    ######################################################################\n",
    "\n",
    "\n",
    "    cache = (Z1, A1, W1, b1, Z2, A2, W2, b2)\n",
    "    return A2, cache"
   ]
  },
  {
   "cell_type": "markdown",
   "metadata": {
    "id": "BFp78qaqGlRJ"
   },
   "source": [
    "# 1.2.3 Backpropagation\n",
    "\n",
    "In this section, we will implement the backpropagation process by completing the `relu_derivative` and `backward_propagation` functions.\n",
    "\n",
    "When doing the backpropagation, we mainly use chain rule to compute the gradient. Below is an example that helps you understand this process:\n",
    "\n",
    "Suppose we have two layers, we have the input data $X$, weight matrix $W$, forward result (without activation) $Z$, activation function $σ$, forward result (after activation) $A$, ground truth label $Y$ and Loss $L(Y,A)$. And we have the below relationships:\n",
    "\n",
    "$Z = WX$\n",
    "\n",
    "$A = σ(Z)$\n",
    "\n",
    "If you wanna compute the gradient of the weight matrix, the formula is:\n",
    "\n",
    "$\\frac{dL}{dW} = \\frac{dL}{dA}\\frac{dA}{dZ}\\frac{dZ}{dW} = \\frac{dL}{dA}\\frac{dA}{dZ} × X$, and $\\frac{dL}{dA}$, $\\frac{dA}{dZ}$ can be directly computed according to your loss function and activation function.\n",
    "\n",
    "When implement this function, recall that we have stored the forward result and parameters in the cache. Please fully use these infomation to do your backpropagation.\n",
    "\n",
    "**<font color=\"red\">[Task]</font>**: Fill the **<font color=\"green\">[TODO]</font>** part in the below function."
   ]
  },
  {
   "cell_type": "code",
   "execution_count": 10,
   "metadata": {
    "ExecuteTime": {
     "end_time": "2024-04-11T08:51:23.689460300Z",
     "start_time": "2024-04-11T08:51:23.661740800Z"
    },
    "id": "gzTlHq1T0N_c"
   },
   "outputs": [],
   "source": [
    "def relu_derivative(Z):\n",
    "    '''\n",
    "    Inputs:\n",
    "    - Z: the value before activation\n",
    "\n",
    "    Outputs：\n",
    "    - dZ： the derivative of relu function\n",
    "    '''\n",
    "    dZ = np.array(Z, copy=True)\n",
    "\n",
    "    ######################################################################\n",
    "    # TODO: Implement the relu vackward              #\n",
    "    ######################################################################\n",
    "    # Replace pass with your code\n",
    "    for i in range(dZ.shape[0]):\n",
    "        if dZ[i] <= 0:\n",
    "            dZ[i] = 0\n",
    "        else:\n",
    "            dZ[i] = 1\n",
    "    ######################################################################\n",
    "    #         END OF YOUR CODE               #\n",
    "    ######################################################################\n",
    "\n",
    "    return dZ\n",
    "\n",
    "def backward_propagation(parameters, cache, X, Y):\n",
    "    '''\n",
    "    Implement the backward propagation process for our 3 layer NN\n",
    "    Here are several steps you need to do:\n",
    "    1. dZ2: Compute the gradient of Cross Entropy Loss and Softmax Function\n",
    "    2. dW2: Compute the gradient of the weight matrix from hidden layer to output layer\n",
    "    3. db2: Compute the gradient of the bias term from hidden layer to output layer\n",
    "    4. dA2: Compute the gradient of the ReLU activation\n",
    "    ...\n",
    "\n",
    "    Inputs:\n",
    "    - paramters: a dictionary containing all the parameters\n",
    "    - cache: a tuple that store all the forward propagation results\n",
    "    - X: training data, dimension of [784, batch_size]\n",
    "    - Y: ground truth label, dimension of [10, batch_size]\n",
    "\n",
    "    Outputs:\n",
    "    - grads: a dictionary containing all the computed gradients\n",
    "    '''\n",
    "    m = X.shape[1] # batch_size\n",
    "    Z1, A1, W1, b1, Z2, A2, W2, b2 = cache # load the forward results\n",
    "\n",
    "    dZ2, dW2, db2, dA2, dZ1, dW1, db1 = None, None, None, None, None, None, None\n",
    "\n",
    "    ######################################################################\n",
    "    # TODO: Implement the backward propagation           #\n",
    "    ######################################################################\n",
    "    \n",
    "    dZ2 = A2 - Y  # 交叉熵损失函数对输出层输入的导数\n",
    "    dW2 = np.dot(dZ2, A1.T) / m\n",
    "    db2 = np.sum(dZ2, axis=1, keepdims=True) / m\n",
    "    dA1 = np.dot(W2.T, dZ2)\n",
    "    dZ1 = dA1 * (Z1 > 0)  # ReLU 激活函数的导数\n",
    "    dW1 = np.dot(dZ1, X.T) / \n",
    "    db1 = np.sum(dZ1, axis=1, keepdims=True) / m\n",
    "\n",
    "    \n",
    "    # Replace pass with your code\n",
    "    pass\n",
    "    ######################################################################\n",
    "    #         END OF YOUR CODE               #\n",
    "    ######################################################################\n",
    "\n",
    "    grads = {\"dW1\": dW1, \"db1\": db1, \"dW2\": dW2, \"db2\": db2}\n",
    "\n",
    "    return grads"
   ]
  },
  {
   "cell_type": "markdown",
   "metadata": {
    "id": "I1o_--PwYxvF"
   },
   "source": [
    "# 1.2.4 Update Parameters\n",
    "\n",
    "Now, we have finished the backward propagation and get all the computed gradients. We can use the computed gradients to update all the parameters using gradient descent methods."
   ]
  },
  {
   "cell_type": "code",
   "execution_count": 11,
   "metadata": {
    "ExecuteTime": {
     "end_time": "2024-04-11T08:51:24.394942100Z",
     "start_time": "2024-04-11T08:51:24.382067600Z"
    },
    "id": "XcSW4DwsOrSa"
   },
   "outputs": [],
   "source": [
    "def update_parameters(parameters, grads, learning_rate):\n",
    "\n",
    "    L = len(parameters) // 2  # number of layers\n",
    "\n",
    "    for l in range(L):\n",
    "        parameters[\"W\" + str(l+1)] -= learning_rate * grads[\"dW\" + str(l+1)]\n",
    "        parameters[\"b\" + str(l+1)] -= learning_rate * grads[\"db\" + str(l+1)]\n",
    "\n",
    "    return parameters"
   ]
  },
  {
   "cell_type": "markdown",
   "metadata": {
    "id": "DSDr4s8MaYMa"
   },
   "source": [
    "# 1.2.5 Training our NN\n",
    "\n",
    "In the previous section, we successfully implement the `forward` and `backward` part of NN. Now we can combine all the elements together and train our neural network.\n",
    "\n",
    "In real training process, we don't feed all the data into the neural network at one epoch. Instead, we divide the dataset into small batches and update the parameters using just a small batch of data each time. The introduction of small bacth can reduce the memory load and increase the randomness, which can facilitate the training process and increase the generalization capability of our model. Below we provide two functions that can devide the training set and testing set into small batches."
   ]
  },
  {
   "cell_type": "code",
   "execution_count": 12,
   "metadata": {
    "ExecuteTime": {
     "end_time": "2024-04-11T08:51:25.400025Z",
     "start_time": "2024-04-11T08:51:25.367161600Z"
    },
    "id": "p2GOpSnI00-k"
   },
   "outputs": [],
   "source": [
    "def create_train_batches(X, Y, batch_size):\n",
    "    '''\n",
    "    Inputs:\n",
    "    - X: training data, dimension [784, 60000]\n",
    "    - Y: ground truth label. dimension [10, 60000]\n",
    "    - batch_size: the size of each batch\n",
    "\n",
    "    Outputs:\n",
    "    - mini_batches: a list containing all the data divided into different batches\n",
    "    '''\n",
    "    m = X.shape[1]  # number of data; (60000)\n",
    "    mini_batches = []\n",
    "\n",
    "    # shuffle all the data\n",
    "    permutation = list(np.random.permutation(m))\n",
    "    shuffled_X = X[:, permutation]\n",
    "    shuffled_Y = Y[:, permutation]\n",
    "\n",
    "    # divide the data into batch\n",
    "    num_complete_minibatches = m // batch_size\n",
    "    for k in range(0, num_complete_minibatches):\n",
    "        mini_batch_X = shuffled_X[:, k*batch_size : (k+1)*batch_size]\n",
    "        mini_batch_Y = shuffled_Y[:, k*batch_size : (k+1)*batch_size]\n",
    "        mini_batches.append((mini_batch_X, mini_batch_Y))\n",
    "\n",
    "    # deal with the last batch (may not equal to the batch_size)\n",
    "    if m % batch_size != 0:\n",
    "        mini_batch_X = shuffled_X[:, num_complete_minibatches*batch_size :]\n",
    "        mini_batch_Y = shuffled_Y[:, num_complete_minibatches*batch_size :]\n",
    "        mini_batches.append((mini_batch_X, mini_batch_Y))\n",
    "\n",
    "    return mini_batches\n",
    "\n",
    "def create_test_batches(X, batch_size):\n",
    "    '''\n",
    "    Inputs:\n",
    "    - X: testing data, dimension [784, 10000]\n",
    "    - batch_size: the size of each batch\n",
    "\n",
    "    Outputs:\n",
    "    - mini_batches: a list containing all the data divided into different batches\n",
    "    '''\n",
    "    mini_batches = []\n",
    "    m = X.shape[1]  # number of data, (10000)\n",
    "    n_batches = m // batch_size\n",
    "\n",
    "    for i in range(n_batches):\n",
    "        X_mini = X[:, i*batch_size:(i+1)*batch_size]\n",
    "        mini_batches.append(X_mini)\n",
    "\n",
    "    if m % batch_size != 0:\n",
    "        X_mini = X[:, n_batches*batch_size:]\n",
    "        mini_batches.append(X_mini)\n",
    "\n",
    "    return mini_batches"
   ]
  },
  {
   "cell_type": "markdown",
   "metadata": {
    "id": "oK5ofsELdf0P"
   },
   "source": [
    "Before training our NN, we need to define a `model_predict` function to predict the labels of the data samples, which can be further used to compute the prediction accuracy.\n",
    "\n",
    "**Hint 1**: Since our data are seperated into small batches, you need to predict the labels of data in each batch and then concatenate them together to the final predictions\n",
    "\n",
    "**Hint 2**: Recall that output result of our NN is a one-hot probability vector for each data sample. You should convert them into a single label\n",
    "\n",
    "**<font color=\"red\">[Task]</font>**: Fill the **<font color=\"green\">[TODO]</font>** part in the below function."
   ]
  },
  {
   "cell_type": "code",
   "execution_count": 13,
   "metadata": {
    "ExecuteTime": {
     "end_time": "2024-04-11T08:51:26.214393400Z",
     "start_time": "2024-04-11T08:51:26.200593300Z"
    },
    "id": "XcQfu2Gcck2H"
   },
   "outputs": [],
   "source": [
    "def model_predict(X_test, parameters, batch_size):\n",
    "    mini_batches = create_test_batches(X_test, batch_size)\n",
    "    all_predictions = [] # a list containing the prediction result of each small batch\n",
    "\n",
    "    for X_mini in mini_batches:\n",
    "      ######################################################################\n",
    "      # TODO: predict the results for each small batch       #\n",
    "      ######################################################################\n",
    "      # Replace pass with your code\n",
    "      A2, _ = forward_propagation(X_mini, parameters)  # 使用前向传播预测标签\n",
    "      predictions = np.argmax(A2, axis=0)  # 将概率向量转换为单个标签\n",
    "      all_predictions.append(predictions)\n",
    "      ######################################################################\n",
    "      #         END OF YOUR CODE               #\n",
    "      ######################################################################\n",
    "\n",
    "    all_predictions = np.concatenate(all_predictions, axis=0)\n",
    "    return all_predictions"
   ]
  },
  {
   "cell_type": "markdown",
   "metadata": {
    "id": "Vh8WpO-Ug84O"
   },
   "source": [
    "Finally, we can train our NN. You should following the below training steps to train your NN for each small batch in each iteration :\n",
    "\n",
    "\n",
    "\n",
    "*   Do the **Forward Propagation** to get the forward results\n",
    "*   Compute the **Loss** based on the forward results\n",
    "*   Do the **Backward Propagation** to compute all the gradients\n",
    "*   Update all the parameters\n",
    "\n",
    "After iteration all the small batches, you should calculate the accuracy for both training data and testing data in this iteration.\n",
    "\n",
    "**<font color=\"red\">[Task]</font>**: Fill the **<font color=\"green\">[TODO]</font>** part in the below function.\n"
   ]
  },
  {
   "cell_type": "code",
   "execution_count": 14,
   "metadata": {
    "ExecuteTime": {
     "end_time": "2024-04-11T08:51:26.907094300Z",
     "start_time": "2024-04-11T08:51:26.899257600Z"
    },
    "id": "WJG44uxE0ugA"
   },
   "outputs": [],
   "source": [
    "def train(X_train, Y_train, X_test, Y_test, layers_dims, learning_rate, num_iterations, batch_size):\n",
    "    # initialize the parameters\n",
    "    parameters = initialize_parameters(layers_dims)\n",
    "\n",
    "    # training iterations\n",
    "    for i in range(0, num_iterations):\n",
    "\n",
    "        # create the small batches\n",
    "        mini_batches = create_train_batches(X_train, Y_train, batch_size)\n",
    "\n",
    "        for mini_batch in mini_batches:\n",
    "            (mini_batch_X, mini_batch_Y) = mini_batch\n",
    "\n",
    "            ######################################################################\n",
    "            # TODO: finish the training process              #\n",
    "            ######################################################################\n",
    "            # Replace pass with your code\n",
    "            A2, cache = forward_propagation(mini_batch_X, parameters)\n",
    "            \n",
    "            cost = compute_loss(A2, mini_batch_Y)\n",
    "            \n",
    "            grads = backward_propagation(parameters, cache, mini_batch_X, mini_batch_Y)\n",
    "            \n",
    "            parameters = update_parameters(parameters, grads, learning_rate)\n",
    "            ######################################################################\n",
    "            #         END OF YOUR CODE               #\n",
    "            ######################################################################\n",
    "\n",
    "        # acc of training\n",
    "        all_predictions = model_predict(X_train, parameters, batch_size)\n",
    "        train_labels = np.argmax(Y_train, axis=0)\n",
    "        train_acc = np.mean(all_predictions == train_labels)\n",
    "\n",
    "        # predict\n",
    "        all_predictions = model_predict(X_test, parameters, batch_size)\n",
    "        test_labels = np.argmax(Y_test, axis=0)\n",
    "        test_acc = np.mean(all_predictions == test_labels)\n",
    "\n",
    "        # print cost and acc\n",
    "        print (\"Cost after iteration %i: %f | Training Accuracy: %f | Test Accuracy: %f\" %(i+1, cost, train_acc, test_acc))\n",
    "\n",
    "    return parameters"
   ]
  },
  {
   "cell_type": "code",
   "execution_count": 15,
   "metadata": {
    "ExecuteTime": {
     "end_time": "2024-04-10T04:53:05.159888100Z",
     "start_time": "2024-04-10T04:52:46.053655600Z"
    },
    "id": "-FNFPDu1eCk4"
   },
   "outputs": [
    {
     "name": "stdout",
     "output_type": "stream",
     "text": [
      "Cost after iteration 1: 1.547874 | Training Accuracy: 0.574117 | Test Accuracy: 0.568700\n",
      "Cost after iteration 2: 1.248628 | Training Accuracy: 0.637633 | Test Accuracy: 0.633100\n",
      "Cost after iteration 3: 1.173196 | Training Accuracy: 0.670467 | Test Accuracy: 0.665300\n",
      "Cost after iteration 4: 1.083392 | Training Accuracy: 0.695583 | Test Accuracy: 0.694200\n",
      "Cost after iteration 5: 1.144353 | Training Accuracy: 0.720633 | Test Accuracy: 0.721100\n",
      "Cost after iteration 6: 1.021803 | Training Accuracy: 0.738983 | Test Accuracy: 0.737000\n",
      "Cost after iteration 7: 0.661619 | Training Accuracy: 0.754367 | Test Accuracy: 0.753500\n",
      "Cost after iteration 8: 0.776740 | Training Accuracy: 0.765550 | Test Accuracy: 0.763800\n",
      "Cost after iteration 9: 1.103457 | Training Accuracy: 0.775650 | Test Accuracy: 0.774600\n",
      "Cost after iteration 10: 1.077948 | Training Accuracy: 0.780933 | Test Accuracy: 0.781100\n",
      "Cost after iteration 11: 0.516867 | Training Accuracy: 0.788883 | Test Accuracy: 0.788600\n",
      "Cost after iteration 12: 1.139390 | Training Accuracy: 0.796800 | Test Accuracy: 0.796600\n",
      "Cost after iteration 13: 1.020061 | Training Accuracy: 0.801700 | Test Accuracy: 0.801300\n",
      "Cost after iteration 14: 1.035067 | Training Accuracy: 0.804017 | Test Accuracy: 0.804600\n",
      "Cost after iteration 15: 0.681650 | Training Accuracy: 0.808333 | Test Accuracy: 0.808700\n",
      "Cost after iteration 16: 1.007377 | Training Accuracy: 0.812217 | Test Accuracy: 0.813900\n",
      "Cost after iteration 17: 1.391601 | Training Accuracy: 0.815083 | Test Accuracy: 0.815300\n",
      "Cost after iteration 18: 1.283646 | Training Accuracy: 0.816583 | Test Accuracy: 0.818000\n",
      "Cost after iteration 19: 0.546120 | Training Accuracy: 0.819583 | Test Accuracy: 0.822200\n",
      "Cost after iteration 20: 0.907813 | Training Accuracy: 0.821550 | Test Accuracy: 0.821200\n"
     ]
    }
   ],
   "source": [
    "# run this script to train you NN\n",
    "\n",
    "x_train = X_train.values.T # reshape it into [784,60000]\n",
    "y_train = Y_train.values.T\n",
    "x_test = X_test.values.T\n",
    "y_test = Y_test.values.T\n",
    "para = train(x_train , y_train, x_test, y_test, layers_dims= [784,128,10], learning_rate = 0.01, num_iterations = 20, batch_size = 256)\n",
    "\n",
    "\n",
    "# para = train(x_train , y_train, x_test, y_test, layer_dims = [784,128,10], learning_rate = 0.01, num_iterations = 20, batch_size = 256)"
   ]
  },
  {
   "cell_type": "markdown",
   "metadata": {
    "id": "Hz11VjdxS-As"
   },
   "source": [
    "# Convolutional Neural Network"
   ]
  },
  {
   "cell_type": "markdown",
   "metadata": {
    "id": "8l-Hp7Srks2-"
   },
   "source": [
    "In this exercise, we are going to implement a convoutional neural network from scratch using numpy. The network structure is shown as below:\n",
    "\n",
    "*   `conv_layer`: 32 2*2 convolutional kernels; stride = 1;\n",
    "*   `max_pooling`: 2*2 pooling window; stride = 2;\n",
    "*   `fully-connected layers`: 3 two connected layers, each with n_flatten, 64, 10 nodes. `n_flatten` represents the dimension of the flattened pooling result\n",
    "\n",
    "You will be asked to implement the `forward` part, including `conv_forward`, `pool_forward` and `linear_forward`. The backward part and training process are given. If needed, you can also modify those given functions to align with your implementation.\n",
    "\n",
    "**<font color=\"red\">[Task]</font>**: Fill the **<font color=\"green\">[TODO]</font>** part in the below function."
   ]
  },
  {
   "cell_type": "markdown",
   "metadata": {
    "id": "PcF_uw9goL7Y"
   },
   "source": [
    "# 2.1 Forward Propagation"
   ]
  },
  {
   "cell_type": "code",
   "execution_count": 15,
   "metadata": {
    "ExecuteTime": {
     "end_time": "2024-04-11T08:51:31.374940500Z",
     "start_time": "2024-04-11T08:51:31.322703300Z"
    },
    "id": "HxwqnmY2S9s5"
   },
   "outputs": [],
   "source": [
    "def conv_forward(A_prev, W, b, stride):\n",
    "    \"\"\"\n",
    "    Implement the forward of conv layers (with bias)\n",
    "\n",
    "    Inputs:\n",
    "    - A_prev: The activation output from the previous layer, with dimension of (m, n_H_prev, n_W_prev, n_C_prev)\n",
    "    - (1) m is the batch size (2) n_H_prev is the height of previous output\n",
    "    - (3) n_W_prev is the width of the previous output (4) n_C_prev is the number of channels from the previous output\n",
    "\n",
    "    - W: The weight of the conv kernel，with dimension of: (f, f, n_C_prev, n_C)\n",
    "    - (1) f is the size of the kernel (2) n_C is the number of the conv kernels\n",
    "\n",
    "    - b: The bias term with dimension of (1, 1, 1, n_C)\n",
    "    - stride: A integer represents how \n",
    "    far the conv kernel moves each time\n",
    "\n",
    "\n",
    "    Outputs:\n",
    "    - Z: The conv result, with dimension of (m, n_H, n_W, n_C)\n",
    "    - A_prev, W, b, stride\n",
    "\n",
    "    \"\"\"\n",
    "\n",
    "    (m, n_H_prev, n_W_prev, n_C_prev) = A_prev.shape\n",
    "    (f, f, n_C) = W.shape\n",
    "\n",
    "    #####################################################################################\n",
    "    # TODO: Compute the height and weight of the output after convolution  #\n",
    "    # Replace None with your formula                       #\n",
    "    #####################################################################################\n",
    "    n_H = (n_H_prev - f)//stride + 1\n",
    "    n_W = (n_W_prev - f)//stride + 1\n",
    "\n",
    "    \n",
    "    # initialize the output\n",
    "    Z = np.zeros((m, n_H, n_W, n_C))\n",
    "\n",
    "    # print(f\"W shape:{W.shape}\")\n",
    "    # print(f\"Z shape:{Z.shape}\")\n",
    "    # print(f\"b shape:{b.shape}\")\n",
    "    \n",
    "    #####################################################################################\n",
    "    # TODO: Implement the convolutional process                  #\n",
    "    # Hint: You can use a for loop to iterate all samples, H, W, C    #\n",
    "    #####################################################################################\n",
    "\n",
    "    for i in range(m): \n",
    "        for h in range(n_H): \n",
    "            for w in range(n_W): \n",
    "                for c in range(n_C): \n",
    "\n",
    "                    vert_start = h * stride\n",
    "                    vert_end = vert_start + f\n",
    "                    horiz_start = w * stride\n",
    "                    horiz_end = horiz_start + f\n",
    "\n",
    "                    a_slice_prev = A_prev[i, vert_start:vert_end, horiz_start:horiz_end, :]\n",
    "                    # print(f\"a_slice_prev.shape:{a_slice_prev.shape}\")\n",
    "                    # Z[i, h, w, c] = Z[i, h, w, c]\n",
    "                    # W[:, :, :, c] = W[:, :, :, c]\n",
    "                    # b[:, :, :, c] = b[:, :, :, c]\n",
    "                    Z[i, h, w, c] = np.sum(a_slice_prev * W[:, :, c]) + b[0, 0, 0, c]\n",
    "\n",
    "\n",
    "    #####################################################################################\n",
    "    #             End of Your Code                   #\n",
    "    #####################################################################################\n",
    "\n",
    "\n",
    "    assert(Z.shape == (m, n_H, n_W, n_C))\n",
    "\n",
    "    return Z, A_prev, W, b, stride"
   ]
  },
  {
   "cell_type": "code",
   "execution_count": 16,
   "metadata": {
    "ExecuteTime": {
     "end_time": "2024-04-11T08:51:31.685988200Z",
     "start_time": "2024-04-11T08:51:31.670761900Z"
    },
    "id": "9STy2sD1TECp"
   },
   "outputs": [],
   "source": [
    "def pool_forward(A_prev, f, stride):\n",
    "    \"\"\"\n",
    "    Inputs:\n",
    "    - A_prev: The activation output from the previous layer, with dimension of (m, n_H_prev, n_W_prev, n_C_prev)\n",
    "    - (1) m is the batch size (2) n_H_prev is the height of previous output\n",
    "    - (3) n_W_prev is the width of the previous output (4) n_C_prev is the number of channels from the previous output\n",
    "\n",
    "    - f: Integer, the height and width of the pooling windows\n",
    "    - stride: Integer, indicate how far the pooling move each time\n",
    "\n",
    "    Outputs:\n",
    "    - A: The output of the pooling layers, with dimension of (m, n_H, n_W, n_C)\n",
    "    - A_prev, f, stride, n_H, n_W, n_C\n",
    "\n",
    "    \"\"\"\n",
    "    (m, n_H_prev, n_W_prev, n_C_prev) = A_prev.shape\n",
    "\n",
    "    #####################################################################################\n",
    "    # TODO: Compute the height and weight of the output after convolution  #\n",
    "    # Replace None with your formula                       #\n",
    "    #####################################################################################\n",
    "    n_H = (n_H_prev - f)//stride + 1\n",
    "    n_W = (n_W_prev - f)//stride + 1\n",
    "    n_C = n_C_prev\n",
    "\n",
    "    # initialize the output\n",
    "    A = np.zeros((m, n_H, n_W, n_C))\n",
    "\n",
    "    #####################################################################################\n",
    "    # TODO: Implement the Pooling process                     #\n",
    "    # Hint: You can use a for loop to iterate all samples, H, W, C    #\n",
    "    \n",
    "    for i in range(m):\n",
    "        for j in range(n_H):\n",
    "            for k in range(n_W):\n",
    "                for l in range(n_C):\n",
    "                    \n",
    "                    vert_start = j * stride\n",
    "                    vert_end = vert_start + f\n",
    "                    horiz_start = k * stride\n",
    "                    horiz_end = horiz_start + f\n",
    "                    \n",
    "                    a_slice_prev = A_prev[i, vert_start:vert_end, horiz_start:horiz_end, l]\n",
    "                    \n",
    "                    A[i , j , k , l] = np.max(a_slice_prev)\n",
    "    \n",
    "    \n",
    "    #####################################################################################\n",
    "\n",
    "    \n",
    "\n",
    "    #####################################################################################\n",
    "    #             End of Your Code                   #\n",
    "    #####################################################################################\n",
    "\n",
    "    assert(A.shape == (m, n_H, n_W, n_C))\n",
    "\n",
    "\n",
    "    return A, A_prev, f, stride, n_H, n_W, n_C"
   ]
  },
  {
   "cell_type": "code",
   "execution_count": 17,
   "metadata": {
    "ExecuteTime": {
     "end_time": "2024-04-11T08:51:32.294496500Z",
     "start_time": "2024-04-11T08:51:32.254962800Z"
    },
    "id": "9iKLb3lqTG6j"
   },
   "outputs": [],
   "source": [
    "def fully_connected_forward(A_prev, W, b):\n",
    "    \"\"\"\n",
    "    Inputs:\n",
    "    - A_prev: activation output from the last layer，with a dimension of (batch_size, # of nodes in last layer)\n",
    "    - W: Weigh Matrix, with a dimension of (# of nodes in last layer, # of nodes in this layer)\n",
    "    - b: Bias Term, with a dimension of (# of nodes in this layer, 1)\n",
    "\n",
    "    Outputs:\n",
    "    - Z: The output result without activation\n",
    "    \"\"\"\n",
    "\n",
    "    Z = None\n",
    "    #####################################################################################\n",
    "    # TODO: Implement the fc forward process                   #\n",
    "    #####################################################################################\n",
    "    # print(f\"A_prev: {A_prev.shape}\")\n",
    "    # print(f\"W : {W.shape}\")\n",
    "    # print(f\"b : {b.shape}\")    \n",
    "    \n",
    "    Z = np.dot(A_prev, W) + b\n",
    "\n",
    "    #####################################################################################\n",
    "    #             End of Your Code                   #\n",
    "    #####################################################################################\n",
    "\n",
    "    return Z, W, b\n"
   ]
  },
  {
   "cell_type": "code",
   "execution_count": 18,
   "metadata": {
    "ExecuteTime": {
     "end_time": "2024-04-11T08:51:32.686413Z",
     "start_time": "2024-04-11T08:51:32.673864400Z"
    },
    "id": "-XqkzIXnTKK5"
   },
   "outputs": [],
   "source": [
    "def cnn_forward(X, parameters):\n",
    "\n",
    "    cache = []\n",
    "\n",
    "    # First Conv\n",
    "    Z1, A0, W1, b1, s1 = conv_forward(X, parameters['W1'], parameters['b1'], stride=1)\n",
    "    A1 = relu(Z1)\n",
    "    \n",
    "    \n",
    "    # print(f\"Z1: {Z1.shape}\")\n",
    "    # print(f\"A1: {A1.shape}\")\n",
    "    \n",
    "    # Max Pooling\n",
    "    P1, A1, f, s2, H2, W2, C2 = pool_forward(A1, f=2, stride=2)\n",
    "    \n",
    "    \n",
    "    # print(f\"P1: {P1.shape}\")\n",
    "    \n",
    "    # Flatten\n",
    "    P1_flattened = P1.reshape(P1.shape[0], -1)\n",
    "\n",
    "\n",
    "    # print(f\"P1_flatten: {P1_flattened.shape}\")\n",
    "\n",
    "    # FC Layers 1\n",
    "    Z2, W3, b3 = fully_connected_forward(P1_flattened, parameters['W2'], parameters['b2'])\n",
    "    A2 = relu(Z2)\n",
    "\n",
    "    # FC Layers 2\n",
    "    Z3, W4, b4 = fully_connected_forward(A2, parameters['W3'], parameters['b3'])\n",
    "    A3 = softmax(Z3)\n",
    "\n",
    "    # conv cache --> pooling cache --> fc 1 cache --> fc 2 cache\n",
    "    cache.append((Z1, A0, W1, b1, s1))\n",
    "    cache.append((P1, A1, f, s2, H2, W2, C2))\n",
    "    cache.append((Z2, P1_flattened, W3, b3))\n",
    "    cache.append((Z3, A2, W4, b4))\n",
    "\n",
    "    return A3, cache\n"
   ]
  },
  {
   "cell_type": "markdown",
   "metadata": {
    "id": "moG49F1cuCW1"
   },
   "source": [
    "# Backpropagation"
   ]
  },
  {
   "cell_type": "code",
   "execution_count": 19,
   "metadata": {
    "ExecuteTime": {
     "end_time": "2024-04-11T08:51:33.463818Z",
     "start_time": "2024-04-11T08:51:33.428809800Z"
    },
    "id": "v7wTg6hWVNnz"
   },
   "outputs": [],
   "source": [
    "def relu_backward(dA, cache):\n",
    "    Z, A_prev, W, b = cache\n",
    "    dZ = np.array(dA, copy=True)\n",
    "    dZ[Z <= 0] = 0\n",
    "    return dZ\n",
    "\n",
    "def conv_backward(dZ, cache):\n",
    "    (Z, A_prev, W, b, stride) = cache\n",
    "    (m, n_H_prev, n_W_prev, n_C_prev) = A_prev.shape\n",
    "    (f, f, n_C) = W.shape\n",
    "    (m, n_H, n_W, n_C) = dZ.shape\n",
    "\n",
    "    # initialize the gradients\n",
    "    dA_prev = np.zeros_like(A_prev)\n",
    "    dW = np.zeros_like(W)\n",
    "    db = np.zeros_like(b)\n",
    "\n",
    "    for i in range(m):\n",
    "        a_prev = A_prev[i]\n",
    "        for h in range(n_H):\n",
    "            for w in range(n_W):\n",
    "                for c in range(n_C):\n",
    "                    # localize the current slice\n",
    "                    x_start = h * stride\n",
    "                    x_end = x_start + f\n",
    "                    y_start = w * stride\n",
    "                    y_end = y_start + f\n",
    "                    a_slice = a_prev[x_start:x_end, y_start:y_end, :]\n",
    "\n",
    "                    # compute the gradients\n",
    "                    dA_prev[i, x_start:x_end, y_start:y_end, :] += (W[:, :, c] * dZ[i, h, w, c]).reshape(2,2,1)\n",
    "                    dW[:, :, c] += (a_slice * dZ[i, h, w, c]).reshape(2,2)\n",
    "                    db[:, :, :, c] += dZ[i, h, w, c]\n",
    "\n",
    "    # compute the bias gradients\n",
    "    db = np.sum(dZ, axis=(0, 1, 2), keepdims=True) / m\n",
    "\n",
    "    return dA_prev, dW, db\n",
    "\n",
    "\n",
    "def create_mask_from_window(x):\n",
    "    mask = x == np.max(x)\n",
    "    return mask\n",
    "\n",
    "def pool_backward(dA, cache):\n",
    "    (P, A_prev, f, stride, n_H, n_W, n_C) = cache\n",
    "    m, n_H_prev, n_W_prev, n_C_prev = A_prev.shape\n",
    "    bs = dA.shape[0]\n",
    "    dA = dA.reshape(bs ,n_H ,n_W ,n_C) # unflatten\n",
    "\n",
    "    dA_prev = np.zeros_like(A_prev)\n",
    "\n",
    "    for i in range(m):\n",
    "        a_prev = A_prev[i]\n",
    "        for h in range(n_H):\n",
    "            for w in range(n_W):\n",
    "                for c in range(n_C):\n",
    "                    x_start = h * stride\n",
    "                    x_end = x_start + f\n",
    "                    y_start = w * stride\n",
    "                    y_end = y_start + f\n",
    "                    a_prev_slice = a_prev[x_start:x_end, y_start:y_end, c]\n",
    "                    mask = create_mask_from_window(a_prev_slice)\n",
    "                    dA_prev[i, x_start:x_end, y_start:y_end, c] += mask * dA[i, h, w, c]\n",
    "    return dA_prev\n",
    "\n",
    "def distribute_value(dz, shape):\n",
    "    (n_H, n_W) = shape\n",
    "    average = dz / (n_H * n_W)\n",
    "    a = np.ones(shape) * average\n",
    "    return a\n",
    "\n",
    "def linear_backward(dZ, cache):\n",
    "    Z, A_prev, W, b= cache\n",
    "    m = A_prev.shape[0]\n",
    "    dW = 1./m * np.dot(A_prev.T, dZ)\n",
    "    db = 1./m * np.sum(dZ, axis=0, keepdims=True)\n",
    "    dA_prev = np.dot(dZ,W.T)\n",
    "    return dA_prev, dW, db\n",
    "\n",
    "def cnn_backward(AL, Y, caches):\n",
    "\n",
    "    gradients = {}\n",
    "\n",
    "    # compute the gradient of the output layer dAL which uses the softmax activation\n",
    "    dAL = AL - Y\n",
    "\n",
    "\n",
    "    # backward of the second fc\n",
    "    current_cache = caches[-1]\n",
    "    gradients[\"dA2\"], gradients[\"dW3\"], gradients[\"db3\"] = linear_backward(dAL, current_cache)\n",
    "\n",
    "    # backward of the relu function + the first lc\n",
    "    current_cache = caches[-2]\n",
    "    dZ = relu_backward(gradients[\"dA2\"], current_cache)\n",
    "    gradients[\"dA1\"], gradients[\"dW2\"], gradients[\"db2\"] = linear_backward(dZ, current_cache)\n",
    "    # print(gradients[\"dW2\"].shape)\n",
    "\n",
    "    # backward of max pooling --> relu --> backward of conv\n",
    "    current_cache = caches[-3]\n",
    "    dA0 = pool_backward(gradients[\"dA1\"], current_cache)\n",
    "\n",
    "    Z1, A0, W1, b1, s1 = caches[0]\n",
    "    current_cache = (Z1, A0, W1, b1)\n",
    "    dZ = relu_backward(dA0, current_cache)\n",
    "\n",
    "    current_cache = caches[0]\n",
    "    gradients[\"dA0\"], gradients[\"dW1\"], gradients[\"db1\"] = conv_backward(dZ, current_cache)\n",
    "\n",
    "    return gradients"
   ]
  },
  {
   "cell_type": "markdown",
   "metadata": {
    "id": "fLr7Ho5uwAPO"
   },
   "source": [
    "# Update Parameters"
   ]
  },
  {
   "cell_type": "code",
   "execution_count": 20,
   "metadata": {
    "ExecuteTime": {
     "end_time": "2024-04-11T08:51:34.356987600Z",
     "start_time": "2024-04-11T08:51:34.343203Z"
    },
    "id": "Pmak-ncXafRy"
   },
   "outputs": [],
   "source": [
    "def update_parameters(parameters, grads, learning_rate):\n",
    "    L = len(parameters) // 2  # number of layers\n",
    "\n",
    "    for l in range(1, L+1):\n",
    "        parameters[\"W\" + str(l)] -= learning_rate * grads[\"dW\" + str(l)]\n",
    "        parameters[\"b\" + str(l)] -= learning_rate * grads[\"db\" + str(l)]\n",
    "\n",
    "    return parameters\n"
   ]
  },
  {
   "cell_type": "markdown",
   "metadata": {
    "id": "5HohRhwXwO2P"
   },
   "source": [
    "# Creating Batch Data"
   ]
  },
  {
   "cell_type": "code",
   "execution_count": 21,
   "metadata": {
    "ExecuteTime": {
     "end_time": "2024-04-11T08:51:35.408846Z",
     "start_time": "2024-04-11T08:51:35.367011200Z"
    },
    "id": "14S9h_8e6GGF"
   },
   "outputs": [],
   "source": [
    "def create_minibatches(X, Y, minibatch_size):\n",
    "\n",
    "    m = X.shape[0]\n",
    "    minibatches = []\n",
    "\n",
    "    permutation = list(np.random.permutation(m))\n",
    "    shuffled_X = X[permutation, :, :, :]\n",
    "    shuffled_Y = Y[permutation, :]\n",
    "\n",
    "    num_complete_minibatches = m // minibatch_size\n",
    "\n",
    "    for k in range(0, num_complete_minibatches):\n",
    "        minibatch_X = shuffled_X[k * minibatch_size:(k + 1) * minibatch_size, :, :, :]\n",
    "        minibatch_Y = shuffled_Y[k * minibatch_size:(k + 1) * minibatch_size, :]\n",
    "        minibatch = (minibatch_X, minibatch_Y)\n",
    "        minibatches.append(minibatch)\n",
    "\n",
    "    if m % minibatch_size != 0:\n",
    "        minibatch_X = shuffled_X[num_complete_minibatches * minibatch_size:, :, :, :]\n",
    "        minibatch_Y = shuffled_Y[num_complete_minibatches * minibatch_size:, :]\n",
    "        minibatch = (minibatch_X, minibatch_Y)\n",
    "        minibatches.append(minibatch)\n",
    "\n",
    "    return minibatches"
   ]
  },
  {
   "cell_type": "markdown",
   "metadata": {
    "id": "EGvPibHsxQaK"
   },
   "source": [
    "# Training Your CNN\n",
    "\n",
    "**<font color=\"red\">[Task]</font>**: Fill the **<font color=\"green\">[TODO]</font>** part to complete the training process"
   ]
  },
  {
   "cell_type": "code",
   "execution_count": 26,
   "metadata": {
    "ExecuteTime": {
     "end_time": "2024-04-11T08:54:46.695116500Z",
     "start_time": "2024-04-11T08:54:46.663128800Z"
    },
    "id": "2QlAQtdTWEqJ"
   },
   "outputs": [],
   "source": [
    "# The first step is initializing the parameters\n",
    "\n",
    "parameters = {}\n",
    "\n",
    "# Initilalize the parameters of conv kernels\n",
    "parameters['W' + str(1)] = np.random.randn(2, 2, 16) * np.sqrt(2/68)\n",
    "parameters['b' + str(1)] = np.zeros((1, 1, 1, 16))\n",
    "\n",
    "\n",
    "#############################################################################################################\n",
    "# TODO: Based on the network structure, compute the dimension of the flatten pooling result  #\n",
    "# Replaced None with your computed result                               #\n",
    "##############################################################################################################\n",
    "\n",
    "n_L_prev = 2704\n",
    "\n",
    "\n",
    "# Initialize the paramters of the FC Layers\n",
    "parameters['W' + str(2)] = np.random.randn(n_L_prev, 64) * np.sqrt(2 / (n_L_prev + 64))\n",
    "parameters['b' + str(2)] = np.zeros((1,64))\n",
    "parameters['W' + str(3)] = np.random.randn(64, 10) * np.sqrt(2 / (64+10))\n",
    "parameters['b' + str(3)] = np.zeros((1,10))"
   ]
  },
  {
   "cell_type": "code",
   "execution_count": 23,
   "metadata": {
    "ExecuteTime": {
     "end_time": "2024-04-11T08:51:36.918036100Z",
     "start_time": "2024-04-11T08:51:36.888994200Z"
    },
    "id": "k5eQrgdSXQFu"
   },
   "outputs": [],
   "source": [
    "def predict_accuracy(X, Y, parameters):\n",
    "    probas, caches = cnn_forward(X, parameters)\n",
    "    predicted_labels = np.argmax(probas, axis=1)\n",
    "    true_labels = np.argmax(Y, axis=1)\n",
    "    accuracy = np.mean(predicted_labels == true_labels)\n",
    "    return accuracy\n",
    "\n",
    "def train_cnn(X_train, Y_train, X_test, Y_test, parameters, learning_rate=0.001, num_epochs=100, batch_size=64):\n",
    "\n",
    "    costs = []  # list that stores cost\n",
    "\n",
    "    for i in range(num_epochs):\n",
    "        mini_batches = create_minibatches(X_train, Y_train, batch_size)\n",
    "        cost_total = 0\n",
    "\n",
    "        for minibatch in mini_batches:\n",
    "            (minibatch_X, minibatch_Y) = minibatch\n",
    "\n",
    "            ######################################################################\n",
    "            # TODO: finish the training process              #\n",
    "            ######################################################################\n",
    "            # Replace pass with your code\n",
    "            probas, caches = cnn_forward(minibatch_X, parameters)\n",
    "            \n",
    "            # 计算损失函数\n",
    "            cost = compute_loss(probas, minibatch_Y)\n",
    "            cost_total += cost\n",
    "            \n",
    "            # 反向传播\n",
    "            grads = cnn_backward(probas, minibatch_Y, caches)\n",
    "            \n",
    "            # 更新参数\n",
    "            parameters = update_parameters(parameters, grads, learning_rate)\n",
    "            \n",
    "            ######################################################################\n",
    "            #         END OF YOUR CODE               #\n",
    "            ######################################################################\n",
    "\n",
    "        cost_avg = cost_total / len(mini_batches)\n",
    "        costs.append(cost_avg)\n",
    "\n",
    "        # Print the Accuracy\n",
    "\n",
    "        test_accuracy = predict_accuracy(X_test, Y_test, parameters)\n",
    "        print(f\"Epoch {i+1}/{num_epochs}, Cost: {cost_avg}, Test Accuracy: {test_accuracy}\")\n",
    "\n",
    "    return parameters, costs"
   ]
  },
  {
   "cell_type": "code",
   "execution_count": 24,
   "metadata": {
    "ExecuteTime": {
     "end_time": "2024-04-11T08:51:37.355961Z",
     "start_time": "2024-04-11T08:51:37.334872100Z"
    },
    "id": "tOZTMigf2ipH"
   },
   "outputs": [
    {
     "name": "stdout",
     "output_type": "stream",
     "text": [
      "(60000, 28, 28, 1)\n",
      "(60000, 10)\n"
     ]
    }
   ],
   "source": [
    "# get all the training and testing data\n",
    "x_train, x_test = reshape_data(X_train.values, X_test.values)\n",
    "y_train, y_test = Y_train.values, Y_test.values\n",
    "print(x_train.shape)\n",
    "print(y_train.shape)"
   ]
  },
  {
   "cell_type": "markdown",
   "metadata": {
    "id": "xFqqoGCbyZrW"
   },
   "source": [
    "Run this cell to train you CNN. Since we use Numpy to implement CNN from scratch, the training speed may not be fast. Therefore, when testing your data, you can use a very small dataset to verify all your codes run well. For example, you can use 20 training samples and 1 test samples. After that, you can use a larger subset of the dataset to present your results.\n",
    "\n",
    "Since this CNN is trained on a subset of the whole dataset, you get the marks if the result is reasonable.\n",
    "\n",
    "**Reference**: Using 1000 training samples and 100 testing samples for 5 epochs will take like 40mins in TA's vanilla implementation; Using 100 training samples and 10 testing samples for 5 epochs will take 3-5 mins. It's normal that the model becomes overfitting if you only use small subset of dataset."
   ]
  },
  {
   "cell_type": "code",
   "execution_count": 25,
   "metadata": {
    "ExecuteTime": {
     "end_time": "2024-04-11T08:29:14.185193400Z",
     "start_time": "2024-04-11T08:15:28.671373100Z"
    },
    "collapsed": false
   },
   "outputs": [
    {
     "name": "stdout",
     "output_type": "stream",
     "text": [
      "Epoch 1/10, Cost: 46.56218987589317, Test Accuracy: 0.12\n",
      "Epoch 2/10, Cost: 46.380411650015034, Test Accuracy: 0.15\n",
      "Epoch 3/10, Cost: 46.31864583235706, Test Accuracy: 0.19\n",
      "Epoch 4/10, Cost: 46.245660510074735, Test Accuracy: 0.21\n",
      "Epoch 5/10, Cost: 46.182259737329105, Test Accuracy: 0.22\n",
      "Epoch 6/10, Cost: 46.07377990499247, Test Accuracy: 0.23\n",
      "Epoch 7/10, Cost: 46.00994816326105, Test Accuracy: 0.25\n",
      "Epoch 8/10, Cost: 45.93556582648182, Test Accuracy: 0.25\n",
      "Epoch 9/10, Cost: 45.84147374530272, Test Accuracy: 0.27\n",
      "Epoch 10/10, Cost: 45.81309635793746, Test Accuracy: 0.26\n"
     ]
    }
   ],
   "source": [
    " x_train_subset = x_train[:200]\n",
    "y_train_subset = y_train[:200]\n",
    "x_test_subset = x_test[:100]     \n",
    "y_test_subset = y_test[:100]\n",
    "# print(x_train_subset.shape)\n",
    "# print(y_train_subset.shape)      \n",
    "para, cost = train_cnn(x_train_subset, y_train_subset, x_test_subset, y_test_subset, parameters, learning_rate=0.002 , num_epochs=10, batch_size=128)                                                           "
   ]
  },
  {
   "cell_type": "code",
   "metadata": {
    "collapsed": false
   },
   "outputs": [],
   "source": []
  }
 ],
 "metadata": {
  "colab": {
   "authorship_tag": "ABX9TyOjy408ew0WEW+5EMQKv2NY",
   "mount_file_id": "1AdGyiVYosU2uMBQ9ahx5B7ZOmH8zEQg_",
   "provenance": []
  },
  "kernelspec": {
   "display_name": "Python 3 (ipykernel)",
   "language": "python",
   "name": "python3"
  },
  "language_info": {
   "name": "python"
  }
 },
 "nbformat": 4,
 "nbformat_minor": 0
}
